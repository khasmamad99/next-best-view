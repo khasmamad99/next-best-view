{
 "cells": [
  {
   "cell_type": "code",
   "execution_count": 19,
   "id": "7206c2e7",
   "metadata": {},
   "outputs": [
    {
     "name": "stdout",
     "output_type": "stream",
     "text": [
      "The autoreload extension is already loaded. To reload it, use:\n",
      "  %reload_ext autoreload\n"
     ]
    }
   ],
   "source": [
    "%load_ext autoreload\n",
    "%autoreload 2\n",
    "\n",
    "from pathlib import Path\n",
    "\n",
    "import torch\n",
    "import torch.nn as nn\n",
    "from torch.utils.tensorboard import SummaryWriter\n",
    "from torch.utils.data import Dataset, DataLoader\n",
    "\n",
    "from networks import ThreeDeeCNN\n",
    "from data import ShapeNetNBV"
   ]
  },
  {
   "cell_type": "code",
   "execution_count": 17,
   "id": "1992888c",
   "metadata": {},
   "outputs": [],
   "source": [
    "data_dir_path = Path('data/data/ShapeNetCore.v2_nbv')\n",
    "dataset = ShapeNetNBV(data_dir_path)"
   ]
  },
  {
   "cell_type": "code",
   "execution_count": 18,
   "id": "6c166782",
   "metadata": {},
   "outputs": [
    {
     "data": {
      "text/plain": [
       "{'partial_model': tensor([[[-1., -1.,  0.,  ..., -1., -1., -1.],\n",
       "          [-1., -1., -1.,  ..., -1., -1., -1.],\n",
       "          [-1., -1., -1.,  ..., -1., -1., -1.],\n",
       "          ...,\n",
       "          [-1., -1., -1.,  ..., -1., -1., -1.],\n",
       "          [-1., -1., -1.,  ..., -1., -1., -1.],\n",
       "          [-1., -1., -1.,  ..., -1., -1., -1.]],\n",
       " \n",
       "         [[-1., -1.,  0.,  ..., -1., -1., -1.],\n",
       "          [-1., -1.,  0.,  ..., -1., -1., -1.],\n",
       "          [-1., -1., -1.,  ..., -1., -1., -1.],\n",
       "          ...,\n",
       "          [-1., -1., -1.,  ..., -1., -1., -1.],\n",
       "          [-1., -1., -1.,  ..., -1., -1., -1.],\n",
       "          [-1., -1., -1.,  ..., -1., -1., -1.]],\n",
       " \n",
       "         [[-1., -1.,  0.,  ..., -1., -1., -1.],\n",
       "          [-1., -1.,  0.,  ..., -1., -1., -1.],\n",
       "          [-1., -1.,  0.,  ..., -1., -1., -1.],\n",
       "          ...,\n",
       "          [-1., -1., -1.,  ..., -1., -1., -1.],\n",
       "          [-1., -1., -1.,  ..., -1., -1., -1.],\n",
       "          [-1., -1., -1.,  ..., -1., -1., -1.]],\n",
       " \n",
       "         ...,\n",
       " \n",
       "         [[-1.,  0.,  0.,  ..., -1., -1., -1.],\n",
       "          [ 0.,  0.,  0.,  ..., -1., -1., -1.],\n",
       "          [ 0.,  0.,  0.,  ...,  0., -1., -1.],\n",
       "          ...,\n",
       "          [-1., -1., -1.,  ..., -1., -1., -1.],\n",
       "          [-1., -1., -1.,  ..., -1., -1., -1.],\n",
       "          [-1., -1., -1.,  ..., -1., -1., -1.]],\n",
       " \n",
       "         [[-1.,  0.,  0.,  ..., -1., -1., -1.],\n",
       "          [ 0.,  0.,  0.,  ..., -1., -1., -1.],\n",
       "          [ 0.,  0.,  0.,  ...,  0.,  0., -1.],\n",
       "          ...,\n",
       "          [-1., -1., -1.,  ..., -1., -1., -1.],\n",
       "          [-1., -1., -1.,  ..., -1., -1., -1.],\n",
       "          [-1., -1., -1.,  ..., -1., -1., -1.]],\n",
       " \n",
       "         [[-1., -1., -1.,  ..., -1., -1., -1.],\n",
       "          [ 0.,  0.,  0.,  ..., -1., -1., -1.],\n",
       "          [ 0.,  0.,  0.,  ...,  0.,  0., -1.],\n",
       "          ...,\n",
       "          [-1., -1., -1.,  ..., -1., -1., -1.],\n",
       "          [-1., -1., -1.,  ..., -1., -1., -1.],\n",
       "          [-1., -1., -1.,  ..., -1., -1., -1.]]]),\n",
       " 'nbv': tensor([2])}"
      ]
     },
     "execution_count": 18,
     "metadata": {},
     "output_type": "execute_result"
    }
   ],
   "source": [
    "dataset[0]"
   ]
  },
  {
   "cell_type": "code",
   "execution_count": 20,
   "id": "54915b91",
   "metadata": {},
   "outputs": [],
   "source": [
    "trainloader = DataLoader(dataset, batch_size=1, shuffle=True)"
   ]
  },
  {
   "cell_type": "code",
   "execution_count": 33,
   "id": "379b831e",
   "metadata": {},
   "outputs": [],
   "source": [
    "model = ThreeDeeCNN(n_classes=4)\n",
    "loss_criterion = nn.CrossEntropyLoss()\n",
    "optimizer = torch.optim.Adam(model.parameters(), lr=0.0001)\n",
    "model.train()\n",
    "writer = SummaryWriter()"
   ]
  },
  {
   "cell_type": "code",
   "execution_count": 34,
   "id": "a4c7235b",
   "metadata": {},
   "outputs": [
    {
     "name": "stdout",
     "output_type": "stream",
     "text": [
      "Epoch 0: loss = 1.3894052879427963\n",
      "Epoch 1: loss = 1.3756908442614213\n",
      "Epoch 2: loss = 1.3736756455223516\n",
      "Epoch 3: loss = 1.3697060655872777\n",
      "Epoch 4: loss = 1.367214096604653\n",
      "Epoch 5: loss = 1.3685603018076915\n",
      "Epoch 6: loss = 1.3664872938731931\n",
      "Epoch 7: loss = 1.3719032384314627\n",
      "Epoch 8: loss = 1.3676682322655085\n",
      "Epoch 9: loss = 1.3698447641899\n",
      "Epoch 10: loss = 1.3678426680699833\n",
      "Epoch 11: loss = 1.368096096335717\n",
      "Epoch 12: loss = 1.364870288462009\n",
      "Epoch 13: loss = 1.3683263701650332\n",
      "Epoch 14: loss = 1.3665608476917699\n",
      "Epoch 15: loss = 1.3666772488153205\n",
      "Epoch 16: loss = 1.3646333268228568\n",
      "Epoch 17: loss = 1.3669488986708083\n",
      "Epoch 18: loss = 1.3684889913167593\n",
      "Epoch 19: loss = 1.3675288214998425\n",
      "Epoch 20: loss = 1.362689217868841\n",
      "Epoch 21: loss = 1.3662207059140474\n",
      "Epoch 22: loss = 1.36269252480201\n",
      "Epoch 23: loss = 1.3676080689677652\n",
      "Epoch 24: loss = 1.3649400534494869\n",
      "Epoch 25: loss = 1.3666836878038802\n",
      "Epoch 26: loss = 1.3660084205978322\n",
      "Epoch 27: loss = 1.3643553931758088\n",
      "Epoch 28: loss = 1.3650024066556175\n",
      "Epoch 29: loss = 1.368897263733846\n",
      "Epoch 30: loss = 1.3657912477007452\n",
      "Epoch 31: loss = 1.365966705218801\n",
      "Epoch 32: loss = 1.3679764231420912\n",
      "Epoch 33: loss = 1.3664662719897505\n",
      "Epoch 34: loss = 1.366872416914634\n",
      "Epoch 35: loss = 1.363573600098772\n",
      "Epoch 36: loss = 1.3664612230264916\n",
      "Epoch 37: loss = 1.3650613663331517\n",
      "Epoch 38: loss = 1.364629810711123\n",
      "Epoch 39: loss = 1.3657300950221296\n",
      "Epoch 40: loss = 1.3646245109585096\n",
      "Epoch 41: loss = 1.3638449941041335\n",
      "Epoch 42: loss = 1.3635710084213402\n",
      "Epoch 43: loss = 1.363353817530398\n",
      "Epoch 44: loss = 1.3630419232935276\n",
      "Epoch 45: loss = 1.3674367739344544\n",
      "Epoch 46: loss = 1.3640415269248891\n",
      "Epoch 47: loss = 1.3645743980722607\n",
      "Epoch 48: loss = 1.3665772693337135\n",
      "Epoch 49: loss = 1.3631388325736207\n"
     ]
    }
   ],
   "source": [
    "for epoch in range(50):\n",
    "    # train\n",
    "    model.train()\n",
    "    total_loss = 0.0\n",
    "    num_samples = 0\n",
    "    for samples_dict in trainloader:\n",
    "        inputs = samples_dict['partial_model']\n",
    "        labels = samples_dict['nbv'].flatten()\n",
    "        optimizer.zero_grad()\n",
    "        outputs = model(inputs)\n",
    "        loss = loss_criterion(outputs, labels)\n",
    "        loss.backward()\n",
    "        optimizer.step()\n",
    "        total_loss += loss.item()\n",
    "        num_samples += len(inputs)\n",
    "    \n",
    "    writer.add_scalar('Loss/train', total_loss / num_samples, epoch)\n",
    "    print(f\"Epoch {epoch}: loss = {total_loss / num_samples}\")\n",
    "#     model.eval()\n",
    "#     with torch.no_grad():\n",
    "#         total_loss = 0.0\n",
    "#         total_accuracy = 0\n",
    "#         num_samples = 0\n",
    "#         for inputs, labels in valloader:\n",
    "#             outputs = model(inputs)\n",
    "#             loss = loss_criterion(outputs, labels)\n",
    "#             total_loss += loss.item()\n",
    "#             predicted_labels = torch.argmax(outputs, dim=1)\n",
    "#             total_accuracy += (predicted_labels == labels).float().sum()\n",
    "#             num_samples += len(inputs)\n",
    "#         loss = total_loss / num_samples\n",
    "#         accuracy = total_accuracy / num_samples\n",
    "#         writer.add_scalar('Loss/val', loss, epoch)\n",
    "#         writer.add_scalar('Acc/val', accuracy, epoch)\n",
    "#         print(f\"Eval loss = {loss}, Eval acc = {accuracy}\")        "
   ]
  },
  {
   "cell_type": "code",
   "execution_count": null,
   "id": "295059ae",
   "metadata": {},
   "outputs": [],
   "source": []
  }
 ],
 "metadata": {
  "kernelspec": {
   "display_name": "Python 3 (ipykernel)",
   "language": "python",
   "name": "python3"
  },
  "language_info": {
   "codemirror_mode": {
    "name": "ipython",
    "version": 3
   },
   "file_extension": ".py",
   "mimetype": "text/x-python",
   "name": "python",
   "nbconvert_exporter": "python",
   "pygments_lexer": "ipython3",
   "version": "3.8.13"
  }
 },
 "nbformat": 4,
 "nbformat_minor": 5
}
