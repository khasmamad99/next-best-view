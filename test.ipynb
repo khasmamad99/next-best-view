{
 "cells": [
  {
   "cell_type": "code",
   "execution_count": 1,
   "id": "74005ce3",
   "metadata": {},
   "outputs": [],
   "source": [
    "%load_ext autoreload\n",
    "%autoreload 2\n",
    "\n",
    "import numpy as np\n",
    "import open3d as o3d\n",
    "import k3d\n",
    "\n",
    "from utils import *\n",
    "from ray_tracing import *"
   ]
  },
  {
   "cell_type": "markdown",
   "id": "442cc022",
   "metadata": {},
   "source": [
    "## Test ray_tracing.intersection_points"
   ]
  },
  {
   "cell_type": "code",
   "execution_count": 2,
   "id": "6b30623a",
   "metadata": {},
   "outputs": [],
   "source": [
    "# init the object and normalize\n",
    "bun = o3d.data.BunnyMesh()\n",
    "mesh_bun = o3d.io.read_triangle_mesh(bun.path)\n",
    "mesh_bun.vertices = o3d.utility.Vector3dVector(normalize(np.asarray(mesh_bun.vertices)))\n",
    "\n",
    "# init camera views\n",
    "camera_sphere = o3d.geometry.TriangleMesh.create_sphere(radius=2, resolution=10)\n",
    "views = np.asarray(camera_sphere.vertices)"
   ]
  },
  {
   "cell_type": "code",
   "execution_count": 3,
   "id": "f658111f",
   "metadata": {},
   "outputs": [
    {
     "name": "stdout",
     "output_type": "stream",
     "text": [
      "\u001b[1;33m[Open3D WARNING] GLFW Error: Cocoa: Failed to find service port for display\u001b[0;m\n"
     ]
    }
   ],
   "source": [
    "# setup open3d virtual camera\n",
    "width = 320\n",
    "height = 240\n",
    "vis, ctr, param = setup_virtual_camera(width, height)"
   ]
  },
  {
   "cell_type": "code",
   "execution_count": 4,
   "id": "5b1f0056",
   "metadata": {},
   "outputs": [],
   "source": [
    "# calculcate camera fov in degrees\n",
    "fx = param.intrinsic.intrinsic_matrix[0, 0]\n",
    "x0 = param.intrinsic.intrinsic_matrix[0, 2]\n",
    "fov = np.arctan2(x0, fx) * 180 / np.pi"
   ]
  },
  {
   "cell_type": "code",
   "execution_count": 5,
   "id": "9d893340",
   "metadata": {},
   "outputs": [],
   "source": [
    "# setup raycasting scene and calculate the rays\n",
    "scene = o3d.t.geometry.RaycastingScene()\n",
    "center = np.zeros(3)\n",
    "up = np.array([0, 1, 0])\n",
    "eye = views[7]\n",
    "rays = scene.create_rays_pinhole(fov, center, eye, up, width, height)\n",
    "rays = rays.numpy().reshape(-1, 6)\n",
    "rays = Ray(origin=Vec3D(rays[:, :3]), direction=Vec3D(rays[:, 3:]))"
   ]
  },
  {
   "cell_type": "code",
   "execution_count": 6,
   "id": "d86a1183",
   "metadata": {},
   "outputs": [],
   "source": [
    "# setup the grid\n",
    "num_voxels = 32\n",
    "voxel_size = 2. / num_voxels\n",
    "min_bound = Vec3D(np.array([-1., -1., -1.]))\n",
    "max_bound = Vec3D(-min_bound.data)\n",
    "grid = Grid(voxel_size, num_voxels, min_bound, max_bound)"
   ]
  },
  {
   "cell_type": "code",
   "execution_count": 7,
   "id": "a6df96b0",
   "metadata": {},
   "outputs": [],
   "source": [
    "# find and process t_min and t_max\n",
    "t_min, t_max = intersection_points(rays, grid)\n",
    "# mask out the non-intersecting rays\n",
    "min_mask = np.logical_or(t_min == np.inf, t_min == -np.inf)\n",
    "max_mask = np.logical_or(t_max == np.inf, t_max == -np.inf)\n",
    "mask = np.logical_not(np.logical_or(min_mask, max_mask))\n",
    "print(t_min.min(), t_min.max())\n",
    "# clip rays within a threshold\n",
    "thresh = 4  # twice the radius\n",
    "t_min = np.clip(t_min, a_min=0, a_max=thresh)\n",
    "t_max = np.clip(t_max, a_min=0, a_max=thresh)"
   ]
  },
  {
   "cell_type": "code",
   "execution_count": 8,
   "id": "ca934060",
   "metadata": {},
   "outputs": [
    {
     "name": "stderr",
     "output_type": "stream",
     "text": [
      "/Users/khasmamad/miniconda3/envs/nbv/lib/python3.8/site-packages/traittypes/traittypes.py:97: UserWarning: Given trait value dtype \"float64\" does not match required type \"float32\". A coerced copy has been created.\n",
      "  warnings.warn(\n",
      "/Users/khasmamad/miniconda3/envs/nbv/lib/python3.8/site-packages/traittypes/traittypes.py:97: UserWarning: Given trait value dtype \"int32\" does not match required type \"uint32\". A coerced copy has been created.\n",
      "  warnings.warn(\n"
     ]
    },
    {
     "data": {
      "application/vnd.jupyter.widget-view+json": {
       "model_id": "2221be5c79a343fabf74f7ac0a5466e6",
       "version_major": 2,
       "version_minor": 0
      },
      "text/plain": [
       "Output()"
      ]
     },
     "metadata": {},
     "output_type": "display_data"
    }
   ],
   "source": [
    "# plot the object\n",
    "vertices = flip_axes(np.asarray(mesh_bun.vertices))\n",
    "indices = np.asarray(mesh_bun.triangles)\n",
    "plot = k3d.plot()\n",
    "plot += k3d.mesh(\n",
    "            vertices, \n",
    "            indices,\n",
    "            attribute=vertices[:, 2],\n",
    "            color_map=k3d.colormaps.matplotlib_color_maps.inferno,\n",
    "        )\n",
    "\n",
    "# plot entrance points\n",
    "points = flip_axes(rays.origin.data + t_min[:, None] * rays.direction.data)[mask]\n",
    "plot += k3d.points(points, point_size=0.01, shader='mesh', color=0xff0ac5)\n",
    "\n",
    "# plot exit points\n",
    "points = flip_axes(rays.origin.data + t_max[:, None] * rays.direction.data)[mask]\n",
    "plot += k3d.points(points, point_size=0.01, shader='mesh', color=0x000ac5)\n",
    "\n",
    "# plot camera\n",
    "plot += k3d.points(flip_axes(eye), point_size=0.1, shader='mesh', color=0x00ffc5)\n",
    "\n",
    "plot.display()"
   ]
  },
  {
   "cell_type": "code",
   "execution_count": null,
   "id": "aadacb30",
   "metadata": {},
   "outputs": [],
   "source": []
  }
 ],
 "metadata": {
  "kernelspec": {
   "display_name": "Python 3 (ipykernel)",
   "language": "python",
   "name": "python3"
  },
  "language_info": {
   "codemirror_mode": {
    "name": "ipython",
    "version": 3
   },
   "file_extension": ".py",
   "mimetype": "text/x-python",
   "name": "python",
   "nbconvert_exporter": "python",
   "pygments_lexer": "ipython3",
   "version": "3.8.13"
  }
 },
 "nbformat": 4,
 "nbformat_minor": 5
}
